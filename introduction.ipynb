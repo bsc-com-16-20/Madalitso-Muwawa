{
  "nbformat": 4,
  "nbformat_minor": 0,
  "metadata": {
    "colab": {
      "provenance": [],
      "authorship_tag": "ABX9TyMPjnXYtW+C8jyucYdB8R1u",
      "include_colab_link": true
    },
    "kernelspec": {
      "name": "python3",
      "display_name": "Python 3"
    },
    "language_info": {
      "name": "python"
    }
  },
  "cells": [
    {
      "cell_type": "markdown",
      "metadata": {
        "id": "view-in-github",
        "colab_type": "text"
      },
      "source": [
        "<a href=\"https://colab.research.google.com/github/bsc-com-16-20/Madalitso-Muwawa/blob/main/introduction.ipynb\" target=\"_parent\"><img src=\"https://colab.research.google.com/assets/colab-badge.svg\" alt=\"Open In Colab\"/></a>"
      ]
    },
    {
      "cell_type": "code",
      "execution_count": 5,
      "metadata": {
        "colab": {
          "base_uri": "https://localhost:8080/"
        },
        "id": "-JRN408qsJd8",
        "outputId": "863887a9-2b85-48ac-84d6-72d024b2b8f4"
      },
      "outputs": [
        {
          "output_type": "stream",
          "name": "stdout",
          "text": [
            "Requirement already satisfied: scikit-learn in /usr/local/lib/python3.10/dist-packages (1.2.2)\n",
            "Requirement already satisfied: numpy>=1.17.3 in /usr/local/lib/python3.10/dist-packages (from scikit-learn) (1.25.2)\n",
            "Requirement already satisfied: scipy>=1.3.2 in /usr/local/lib/python3.10/dist-packages (from scikit-learn) (1.11.4)\n",
            "Requirement already satisfied: joblib>=1.1.1 in /usr/local/lib/python3.10/dist-packages (from scikit-learn) (1.4.2)\n",
            "Requirement already satisfied: threadpoolctl>=2.0.0 in /usr/local/lib/python3.10/dist-packages (from scikit-learn) (3.5.0)\n",
            "Colab only includes TensorFlow 2.x; %tensorflow_version has no effect.\n",
            "   survived     sex   age  n_siblings_spouses  parch     fare  class     deck  \\\n",
            "0         0    male  22.0                   1      0   7.2500  Third  unknown   \n",
            "1         1  female  38.0                   1      0  71.2833  First        C   \n",
            "2         1  female  26.0                   0      0   7.9250  Third  unknown   \n",
            "3         1  female  35.0                   1      0  53.1000  First        C   \n",
            "4         0    male  28.0                   0      0   8.4583  Third  unknown   \n",
            "\n",
            "   embark_town alone  \n",
            "0  Southampton     n  \n",
            "1    Cherbourg     n  \n",
            "2  Southampton     y  \n",
            "3  Southampton     n  \n",
            "4   Queenstown     y  \n"
          ]
        }
      ],
      "source": [
        "!pip install scikit-learn --no-cache-dir\n",
        "%tensorflow_version 2.x\n",
        "from __future__ import absolute_import,division,print_function,unicode_literals\n",
        "import numpy as np\n",
        "import pandas as pd\n",
        "import matplotlib.pyplot as plt\n",
        "from IPython.display import clear_output\n",
        "from six.moves import urllib\n",
        "\n",
        "import tensorflow.compat.v2.feature_column as fc\n",
        "\n",
        "import tensorflow as tf\n",
        "dftrain = pd.read_csv(' https://storage.googleapis.com/tf-datasets/titanic/train.csv')\n",
        "dfeval  = pd.read_csv('https://storage.googleapis.com/tf-datasets/titanic/eval.csv')\n",
        "print(dftrain.head())\n",
        "y_train = dftrain.pop('survived')\n",
        "y_eval = dfeval.pop('survived')\n",
        "\n",
        "\n"
      ]
    }
  ]
}